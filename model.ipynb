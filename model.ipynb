{
 "cells": [
  {
   "cell_type": "code",
   "execution_count": 1,
   "metadata": {},
   "outputs": [],
   "source": [
    "import tensorflow as tf\n",
    "from tensorflow import keras\n",
    "import numpy as np\n",
    "import matplotlib.pyplot as plt     \n",
    "from pre import Training_data\n",
    "from sklearn.model_selection import train_test_split\n",
    "from tensorflow.keras import layers, models"
   ]
  },
  {
   "cell_type": "code",
   "execution_count": 2,
   "metadata": {},
   "outputs": [],
   "source": [
    "def plot_history(history : tf.keras.callbacks.History):\n",
    "    \"\"\" This helper function takes the tensorflow.python.keras.callbacks.History\n",
    "    that is output from your `fit` method to plot the loss and accuracy of\n",
    "    the training and validation set.\n",
    "    \"\"\"\n",
    "    fig, axs = plt.subplots(1,2, figsize=(12,6))\n",
    "    axs[0].plot(history.history['accuracy'], label='training set')\n",
    "    axs[0].plot(history.history['val_accuracy'], label = 'validation set')\n",
    "    axs[0].set(xlabel = 'Epoch', ylabel='Accuracy', ylim=[0, 1])\n",
    "\n",
    "    axs[1].plot(history.history['loss'], label='training set')\n",
    "    axs[1].plot(history.history['val_loss'], label = 'validation set')\n",
    "    axs[1].set(xlabel = 'Epoch', ylabel='Loss', ylim=[0, 10])\n",
    "    \n",
    "    axs[0].legend(loc='lower right')\n",
    "    axs[1].legend(loc='lower right')\n"
   ]
  },
  {
   "cell_type": "code",
   "execution_count": 3,
   "metadata": {},
   "outputs": [
    {
     "name": "stdout",
     "output_type": "stream",
     "text": [
      "Files already exis, import them!\n",
      "data: training_data.npy| labels: training_labels.npy\n"
     ]
    }
   ],
   "source": [
    "#amount of classes\n",
    "_AMOUNT_CLASSE = 11\n",
    "training_data = Training_data('training',_AMOUNT_CLASSE)\n",
    "\n",
    "#import the training data\n",
    "_training_data = np.load('training_data.npy')\n",
    "labels = np.load('training_labels.npy')"
   ]
  },
  {
   "cell_type": "code",
   "execution_count": 4,
   "metadata": {},
   "outputs": [],
   "source": [
    "#getting the train and validation data\n",
    "train_dice, val_dice, train_labels, val_labels = train_test_split(\n",
    "    _training_data, \n",
    "    labels,\n",
    "    test_size=0.2, \n",
    "    random_state=42, \n",
    "    shuffle=True\n",
    ")"
   ]
  },
  {
   "cell_type": "code",
   "execution_count": 5,
   "metadata": {},
   "outputs": [],
   "source": [
    "#parameters\n",
    "input_size = 128\n",
    "filter = 10\n",
    "epochs = 10\n",
    "batchsize = 64\n",
    "learning_rate=0.00001\n",
    "\n",
    "strides = (2, 2)\n",
    "pool_size = (2,2)\n",
    "kernel_size = (5,5)"
   ]
  },
  {
   "cell_type": "code",
   "execution_count": 6,
   "metadata": {},
   "outputs": [
    {
     "name": "stdout",
     "output_type": "stream",
     "text": [
      "Model: \"sequential\"\n",
      "_________________________________________________________________\n",
      " Layer (type)                Output Shape              Param #   \n",
      "=================================================================\n",
      " conv2d (Conv2D)             (None, 124, 124, 4)       104       \n",
      "                                                                 \n",
      " max_pooling2d (MaxPooling2D  (None, 62, 62, 4)        0         \n",
      " )                                                               \n",
      "                                                                 \n",
      " dropout (Dropout)           (None, 62, 62, 4)         0         \n",
      "                                                                 \n",
      " flatten (Flatten)           (None, 15376)             0         \n",
      "                                                                 \n",
      " dense (Dense)               (None, 11)                169147    \n",
      "                                                                 \n",
      "=================================================================\n",
      "Total params: 169,251\n",
      "Trainable params: 169,251\n",
      "Non-trainable params: 0\n",
      "_________________________________________________________________\n"
     ]
    }
   ],
   "source": [
    "\n",
    "with tf.device('/GPU:0'):\n",
    "    # Create the first version of the model\n",
    "    model2 = models.Sequential([\n",
    "        layers.Conv2D(filters=4,kernel_size=kernel_size,kernel_regularizer=tf.keras.regularizers.l2(0.0001),activation='relu',input_shape=(input_size,input_size,1)),\n",
    "        layers.MaxPooling2D(pool_size=pool_size,strides=strides,padding='same'),\n",
    "        layers.Dropout(0.4),\n",
    "        layers.Flatten(),\n",
    "        #layers.Dense(128,activation='relu'),\n",
    "        layers.Dense(_AMOUNT_CLASSE,activation='Softmax'),\n",
    "    ])\n",
    "    model2.summary()"
   ]
  },
  {
   "cell_type": "code",
   "execution_count": 7,
   "metadata": {},
   "outputs": [
    {
     "name": "stdout",
     "output_type": "stream",
     "text": [
      "Model: \"sequential_1\"\n",
      "_________________________________________________________________\n",
      " Layer (type)                Output Shape              Param #   \n",
      "=================================================================\n",
      " conv2d_1 (Conv2D)           (None, 124, 124, 10)      260       \n",
      "                                                                 \n",
      " max_pooling2d_1 (MaxPooling  (None, 62, 62, 10)       0         \n",
      " 2D)                                                             \n",
      "                                                                 \n",
      " conv2d_2 (Conv2D)           (None, 58, 58, 5)         1255      \n",
      "                                                                 \n",
      " max_pooling2d_2 (MaxPooling  (None, 29, 29, 5)        0         \n",
      " 2D)                                                             \n",
      "                                                                 \n",
      " dropout_1 (Dropout)         (None, 29, 29, 5)         0         \n",
      "                                                                 \n",
      " flatten_1 (Flatten)         (None, 4205)              0         \n",
      "                                                                 \n",
      " dense_1 (Dense)             (None, 11)                46266     \n",
      "                                                                 \n",
      "=================================================================\n",
      "Total params: 47,781\n",
      "Trainable params: 47,781\n",
      "Non-trainable params: 0\n",
      "_________________________________________________________________\n"
     ]
    }
   ],
   "source": [
    "\n",
    "with tf.device('/GPU:0'):\n",
    "    # Create the first version of the model\n",
    "    model = models.Sequential([\n",
    "        layers.Conv2D(filters=filter,kernel_size=kernel_size,kernel_regularizer=tf.keras.regularizers.l2(0.0001),activation='relu',input_shape=(128,128,1)),\n",
    "        layers.MaxPooling2D(pool_size=pool_size,strides=strides,padding='same'),\n",
    "        \n",
    "        layers.Conv2D(filters=filter/2,kernel_size=kernel_size,kernel_regularizer=tf.keras.regularizers.l2(0.0001),activation='relu'),\n",
    "        layers.MaxPooling2D(pool_size=pool_size,strides=strides,padding='same'),\n",
    "        layers.Dropout(0.5),\n",
    "        layers.Flatten(),\n",
    "        #layers.Dense(128,activation='relu'),\n",
    "        layers.Dense(_AMOUNT_CLASSE,activation='Softmax'),\n",
    "    ])\n",
    "\n",
    "    model.summary()"
   ]
  },
  {
   "cell_type": "code",
   "execution_count": 8,
   "metadata": {},
   "outputs": [],
   "source": [
    "#compiling the models\n",
    "model.compile(optimizer=tf.keras.optimizers.Adam(learning_rate=learning_rate),loss='sparse_categorical_crossentropy', metrics=['accuracy'])\n",
    "model2.compile(optimizer=tf.keras.optimizers.Adam(learning_rate=learning_rate),loss='sparse_categorical_crossentropy', metrics=['accuracy'])"
   ]
  },
  {
   "cell_type": "code",
   "execution_count": 9,
   "metadata": {},
   "outputs": [
    {
     "name": "stdout",
     "output_type": "stream",
     "text": [
      "Epoch 1/10\n",
      "83/83 [==============================] - 7s 49ms/step - loss: 2.4248 - accuracy: 0.1138 - val_loss: 2.2926 - val_accuracy: 0.1270\n",
      "Epoch 2/10\n",
      "83/83 [==============================] - 6s 77ms/step - loss: 2.3097 - accuracy: 0.1594 - val_loss: 2.2273 - val_accuracy: 0.1414\n",
      "Epoch 3/10\n",
      "83/83 [==============================] - 6s 76ms/step - loss: 2.2532 - accuracy: 0.1785 - val_loss: 2.1638 - val_accuracy: 0.1901\n",
      "Epoch 4/10\n",
      "83/83 [==============================] - 7s 80ms/step - loss: 2.1875 - accuracy: 0.2041 - val_loss: 2.0909 - val_accuracy: 0.2981\n",
      "Epoch 5/10\n",
      "83/83 [==============================] - 6s 76ms/step - loss: 2.1047 - accuracy: 0.2445 - val_loss: 1.9985 - val_accuracy: 0.3703\n",
      "Epoch 6/10\n",
      "83/83 [==============================] - 6s 78ms/step - loss: 2.0185 - accuracy: 0.2913 - val_loss: 1.8823 - val_accuracy: 0.5133\n",
      "Epoch 7/10\n",
      "83/83 [==============================] - 6s 77ms/step - loss: 1.9153 - accuracy: 0.3427 - val_loss: 1.7393 - val_accuracy: 0.7163\n",
      "Epoch 8/10\n",
      "83/83 [==============================] - 7s 79ms/step - loss: 1.7812 - accuracy: 0.4033 - val_loss: 1.5668 - val_accuracy: 0.8738\n",
      "Epoch 9/10\n",
      "83/83 [==============================] - 6s 76ms/step - loss: 1.6450 - accuracy: 0.4526 - val_loss: 1.3780 - val_accuracy: 0.9817\n",
      "Epoch 10/10\n",
      "83/83 [==============================] - 6s 77ms/step - loss: 1.4930 - accuracy: 0.5230 - val_loss: 1.1930 - val_accuracy: 0.9901\n"
     ]
    }
   ],
   "source": [
    "#first model training\n",
    "with tf.device('/GPU:0'):\n",
    "    history = model.fit(train_dice,train_labels,epochs=epochs,validation_data=(val_dice,val_labels),batch_size=batchsize)\n"
   ]
  },
  {
   "cell_type": "code",
   "execution_count": 10,
   "metadata": {},
   "outputs": [
    {
     "name": "stdout",
     "output_type": "stream",
     "text": [
      "Epoch 1/10\n",
      "83/83 [==============================] - 5s 48ms/step - loss: 2.2123 - accuracy: 0.2302 - val_loss: 1.7835 - val_accuracy: 0.6806\n",
      "Epoch 2/10\n",
      "83/83 [==============================] - 3s 42ms/step - loss: 1.8197 - accuracy: 0.3820 - val_loss: 1.4337 - val_accuracy: 0.8304\n",
      "Epoch 3/10\n",
      "83/83 [==============================] - 3s 41ms/step - loss: 1.4962 - accuracy: 0.5228 - val_loss: 1.1385 - val_accuracy: 0.8875\n",
      "Epoch 4/10\n",
      "83/83 [==============================] - 4s 43ms/step - loss: 1.2127 - accuracy: 0.6631 - val_loss: 0.8959 - val_accuracy: 1.0000\n",
      "Epoch 5/10\n",
      "83/83 [==============================] - 4s 44ms/step - loss: 0.9938 - accuracy: 0.7447 - val_loss: 0.7057 - val_accuracy: 1.0000\n",
      "Epoch 6/10\n",
      "83/83 [==============================] - 3s 41ms/step - loss: 0.8300 - accuracy: 0.7978 - val_loss: 0.5624 - val_accuracy: 1.0000\n",
      "Epoch 7/10\n",
      "83/83 [==============================] - 3s 39ms/step - loss: 0.6940 - accuracy: 0.8467 - val_loss: 0.4544 - val_accuracy: 1.0000\n",
      "Epoch 8/10\n",
      "83/83 [==============================] - 3s 39ms/step - loss: 0.5701 - accuracy: 0.8834 - val_loss: 0.3692 - val_accuracy: 1.0000\n",
      "Epoch 9/10\n",
      "83/83 [==============================] - 3s 40ms/step - loss: 0.4822 - accuracy: 0.9138 - val_loss: 0.3029 - val_accuracy: 1.0000\n",
      "Epoch 10/10\n",
      "83/83 [==============================] - 3s 40ms/step - loss: 0.4140 - accuracy: 0.9346 - val_loss: 0.2516 - val_accuracy: 1.0000\n"
     ]
    }
   ],
   "source": [
    "#second model training\n",
    "with tf.device('/GPU:0'):\n",
    "    history2 = model2.fit(train_dice,train_labels,epochs=epochs,validation_data=(val_dice,val_labels),batch_size=batchsize)"
   ]
  },
  {
   "cell_type": "code",
   "execution_count": 11,
   "metadata": {},
   "outputs": [
    {
     "data": {
      "image/png": "[encoded data removed]",
      "text/plain": [
       "<Figure size 864x432 with 2 Axes>"
      ]
     },
     "metadata": {
      "needs_background": "light"
     },
     "output_type": "display_data"
    }
   ],
   "source": [
    "plot_history(history)"
   ]
  },
  {
   "cell_type": "code",
   "execution_count": 12,
   "metadata": {},
   "outputs": [
    {
     "data": {
      "image/png": "[encoded data removed]",
      "text/plain": [
       "<Figure size 864x432 with 2 Axes>"
      ]
     },
     "metadata": {
      "needs_background": "light"
     },
     "output_type": "display_data"
    }
   ],
   "source": [
    "plot_history(history2)"
   ]
  },
  {
   "cell_type": "code",
   "execution_count": 14,
   "metadata": {},
   "outputs": [
    {
     "name": "stderr",
     "output_type": "stream",
     "text": [
      "WARNING:absl:Found untraced functions such as softmax_1_layer_call_fn, softmax_1_layer_call_and_return_conditional_losses, softmax_1_layer_call_fn, softmax_1_layer_call_and_return_conditional_losses, softmax_1_layer_call_and_return_conditional_losses while saving (showing 5 of 5). These functions will not be directly callable after loading.\n"
     ]
    },
    {
     "name": "stdout",
     "output_type": "stream",
     "text": [
      "INFO:tensorflow:Assets written to: model1\\assets\n"
     ]
    },
    {
     "name": "stderr",
     "output_type": "stream",
     "text": [
      "INFO:tensorflow:Assets written to: model1\\assets\n",
      "WARNING:absl:Found untraced functions such as softmax_layer_call_fn, softmax_layer_call_and_return_conditional_losses, softmax_layer_call_fn, softmax_layer_call_and_return_conditional_losses, softmax_layer_call_and_return_conditional_losses while saving (showing 5 of 5). These functions will not be directly callable after loading.\n"
     ]
    },
    {
     "name": "stdout",
     "output_type": "stream",
     "text": [
      "INFO:tensorflow:Assets written to: model2\\assets\n"
     ]
    },
    {
     "name": "stderr",
     "output_type": "stream",
     "text": [
      "INFO:tensorflow:Assets written to: model2\\assets\n"
     ]
    }
   ],
   "source": [
    "model.save('model1')\n",
    "model2.save('model2')"
   ]
  }
 ],
 "metadata": {
  "interpreter": {
   "hash": "844750d5e47ed69586078e214d510ee037c49cfe135224478769d7a6fad57b7d"
  },
  "kernelspec": {
   "display_name": "Python 3.8.12 64-bit ('gpu_tf': conda)",
   "language": "python",
   "name": "python3"
  },
  "language_info": {
   "codemirror_mode": {
    "name": "ipython",
    "version": 3
   },
   "file_extension": ".py",
   "mimetype": "text/x-python",
   "name": "python",
   "nbconvert_exporter": "python",
   "pygments_lexer": "ipython3",
   "version": "3.8.12"
  },
  "orig_nbformat": 4
 },
 "nbformat": 4,
 "nbformat_minor": 2
}
