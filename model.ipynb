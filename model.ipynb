{
 "cells": [
  {
   "cell_type": "code",
   "execution_count": 1,
   "metadata": {},
   "outputs": [],
   "source": [
    "import tensorflow as tf\n",
    "import numpy as np\n",
    "import matplotlib.pyplot as plt     \n",
    "from pre import Training_data\n",
    "from sklearn.model_selection import train_test_split\n",
    "from tensorflow.keras import layers, models"
   ]
  },
  {
   "cell_type": "code",
   "execution_count": 2,
   "metadata": {},
   "outputs": [],
   "source": [
    "def plot_history(history : tf.keras.callbacks.History):\n",
    "    \"\"\" This helper function takes the tensorflow.python.keras.callbacks.History\n",
    "    that is output from your `fit` method to plot the loss and accuracy of\n",
    "    the training and validation set.\n",
    "    \"\"\"\n",
    "    fig, axs = plt.subplots(1,2, figsize=(12,6))\n",
    "    axs[0].plot(history.history['accuracy'], label='training set')\n",
    "    axs[0].plot(history.history['val_accuracy'], label = 'validation set')\n",
    "    axs[0].set(xlabel = 'Epoch', ylabel='Accuracy', ylim=[0, 1])\n",
    "\n",
    "    axs[1].plot(history.history['loss'], label='training set')\n",
    "    axs[1].plot(history.history['val_loss'], label = 'validation set')\n",
    "    axs[1].set(xlabel = 'Epoch', ylabel='Loss', ylim=[0, 10])\n",
    "    \n",
    "    axs[0].legend(loc='lower right')\n",
    "    axs[1].legend(loc='lower right')\n"
   ]
  },
  {
   "cell_type": "code",
   "execution_count": 3,
   "metadata": {},
   "outputs": [
    {
     "name": "stdout",
     "output_type": "stream",
     "text": [
      "Files already exis, import them!\n",
      "data: training_data.npy| labels: training_labels.npy\n"
     ]
    }
   ],
   "source": [
    "#amount of classes\n",
    "_AMOUNT_CLASSE = 11\n",
    "training_data = Training_data('training',_AMOUNT_CLASSE)\n",
    "\n",
    "#import the training data\n",
    "_training_data = np.load('training_data.npy')\n",
    "labels = np.load('training_labels.npy')"
   ]
  },
  {
   "cell_type": "code",
   "execution_count": 4,
   "metadata": {},
   "outputs": [],
   "source": [
    "#getting the train and validation data\n",
    "train_dice, val_dice, train_labels, val_labels = train_test_split(\n",
    "    _training_data, \n",
    "    labels,\n",
    "    test_size=0.2, \n",
    "    random_state=42, \n",
    "    shuffle=True\n",
    ")"
   ]
  },
  {
   "cell_type": "code",
   "execution_count": 5,
   "metadata": {},
   "outputs": [],
   "source": [
    "#parameters\n",
    "input_size = 128\n",
    "filter = 30\n",
    "epochs = 6\n",
    "batchsize = 64\n",
    "learning_rate=0.00001\n",
    "\n",
    "strides = (2, 2)\n",
    "pool_size = (2,2)\n",
    "kernel_size = (5,5)"
   ]
  },
  {
   "cell_type": "code",
   "execution_count": 6,
   "metadata": {},
   "outputs": [
    {
     "name": "stdout",
     "output_type": "stream",
     "text": [
      "Model: \"sequential\"\n",
      "_________________________________________________________________\n",
      " Layer (type)                Output Shape              Param #   \n",
      "=================================================================\n",
      " conv2d (Conv2D)             (None, 124, 124, 8)       208       \n",
      "                                                                 \n",
      " max_pooling2d (MaxPooling2D  (None, 62, 62, 8)        0         \n",
      " )                                                               \n",
      "                                                                 \n",
      " dropout (Dropout)           (None, 62, 62, 8)         0         \n",
      "                                                                 \n",
      " flatten (Flatten)           (None, 30752)             0         \n",
      "                                                                 \n",
      " dense (Dense)               (None, 11)                338283    \n",
      "                                                                 \n",
      "=================================================================\n",
      "Total params: 338,491\n",
      "Trainable params: 338,491\n",
      "Non-trainable params: 0\n",
      "_________________________________________________________________\n"
     ]
    }
   ],
   "source": [
    "\n",
    "with tf.device('/GPU:0'):\n",
    "    # Create the first version of the model\n",
    "    model2 = models.Sequential([\n",
    "        layers.Conv2D(filters=8,kernel_size=kernel_size,kernel_regularizer=tf.keras.regularizers.l2(0.0001),activation='relu',input_shape=(input_size,input_size,1)),\n",
    "        layers.MaxPooling2D(pool_size=(6,6),strides=strides,padding='same'),\n",
    "        layers.Dropout(0.4),\n",
    "        layers.Flatten(),\n",
    "        #layers.Dense(128,activation='relu'),\n",
    "        layers.Dense(_AMOUNT_CLASSE,activation='Softmax'),\n",
    "    ])\n",
    "    model2.summary()"
   ]
  },
  {
   "cell_type": "code",
   "execution_count": 7,
   "metadata": {},
   "outputs": [
    {
     "name": "stdout",
     "output_type": "stream",
     "text": [
      "Model: \"sequential_1\"\n",
      "_________________________________________________________________\n",
      " Layer (type)                Output Shape              Param #   \n",
      "=================================================================\n",
      " conv2d_1 (Conv2D)           (None, 124, 124, 30)      780       \n",
      "                                                                 \n",
      " max_pooling2d_1 (MaxPooling  (None, 62, 62, 30)       0         \n",
      " 2D)                                                             \n",
      "                                                                 \n",
      " conv2d_2 (Conv2D)           (None, 58, 58, 15)        11265     \n",
      "                                                                 \n",
      " max_pooling2d_2 (MaxPooling  (None, 29, 29, 15)       0         \n",
      " 2D)                                                             \n",
      "                                                                 \n",
      " dropout_1 (Dropout)         (None, 29, 29, 15)        0         \n",
      "                                                                 \n",
      " flatten_1 (Flatten)         (None, 12615)             0         \n",
      "                                                                 \n",
      " dense_1 (Dense)             (None, 11)                138776    \n",
      "                                                                 \n",
      "=================================================================\n",
      "Total params: 150,821\n",
      "Trainable params: 150,821\n",
      "Non-trainable params: 0\n",
      "_________________________________________________________________\n"
     ]
    }
   ],
   "source": [
    "\n",
    "with tf.device('/GPU:0'):\n",
    "    # Create the first version of the model\n",
    "    model = models.Sequential([\n",
    "        layers.Conv2D(filters=filter,kernel_size=kernel_size,kernel_regularizer=tf.keras.regularizers.l2(0.0001),activation='relu',input_shape=(128,128,1)),\n",
    "        layers.MaxPooling2D(pool_size=pool_size,strides=strides,padding='same'),\n",
    "        \n",
    "        layers.Conv2D(filters=filter/2,kernel_size=kernel_size,kernel_regularizer=tf.keras.regularizers.l2(0.0001),activation='relu'),\n",
    "        layers.MaxPooling2D(pool_size=pool_size,strides=strides,padding='same'),\n",
    "        layers.Dropout(0.5),\n",
    "        layers.Flatten(),\n",
    "        #layers.Dense(128,activation='relu'),\n",
    "        layers.Dense(_AMOUNT_CLASSE,activation='Softmax'),\n",
    "    ])\n",
    "\n",
    "    model.summary()"
   ]
  },
  {
   "cell_type": "code",
   "execution_count": 8,
   "metadata": {},
   "outputs": [],
   "source": [
    "#compiling the models\n",
    "model.compile(optimizer=tf.keras.optimizers.Adam(learning_rate=learning_rate),loss='sparse_categorical_crossentropy', metrics=['accuracy'])\n",
    "model2.compile(optimizer=tf.keras.optimizers.Adam(learning_rate=learning_rate),loss='sparse_categorical_crossentropy', metrics=['accuracy'])"
   ]
  },
  {
   "cell_type": "code",
   "execution_count": 9,
   "metadata": {},
   "outputs": [
    {
     "name": "stdout",
     "output_type": "stream",
     "text": [
      "Epoch 1/6\n",
      "83/83 [==============================] - 14s 132ms/step - loss: 2.3494 - accuracy: 0.1318 - val_loss: 2.2796 - val_accuracy: 0.1354\n",
      "Epoch 2/6\n",
      "83/83 [==============================] - 10s 120ms/step - loss: 2.2367 - accuracy: 0.1819 - val_loss: 2.1577 - val_accuracy: 0.2479\n",
      "Epoch 3/6\n",
      "83/83 [==============================] - 15s 176ms/step - loss: 2.0900 - accuracy: 0.2633 - val_loss: 1.9650 - val_accuracy: 0.4753\n",
      "Epoch 4/6\n",
      "83/83 [==============================] - 15s 177ms/step - loss: 1.8678 - accuracy: 0.4363 - val_loss: 1.6820 - val_accuracy: 0.7726\n",
      "Epoch 5/6\n",
      "83/83 [==============================] - 10s 124ms/step - loss: 1.5630 - accuracy: 0.6376 - val_loss: 1.3196 - val_accuracy: 0.9217\n",
      "Epoch 6/6\n",
      "83/83 [==============================] - 15s 176ms/step - loss: 1.2140 - accuracy: 0.7766 - val_loss: 0.9569 - val_accuracy: 1.0000\n"
     ]
    }
   ],
   "source": [
    "#first model training\n",
    "with tf.device('/GPU:0'):\n",
    "    history = model.fit(train_dice,train_labels,epochs=epochs,validation_data=(val_dice,val_labels),batch_size=batchsize)\n"
   ]
  },
  {
   "cell_type": "code",
   "execution_count": 10,
   "metadata": {},
   "outputs": [
    {
     "name": "stdout",
     "output_type": "stream",
     "text": [
      "Epoch 1/6\n",
      "83/83 [==============================] - 7s 76ms/step - loss: 2.2568 - accuracy: 0.1796 - val_loss: 1.9530 - val_accuracy: 0.2814\n",
      "Epoch 2/6\n",
      "83/83 [==============================] - 5s 58ms/step - loss: 1.8853 - accuracy: 0.3533 - val_loss: 1.6097 - val_accuracy: 0.7186\n",
      "Epoch 3/6\n",
      "83/83 [==============================] - 6s 68ms/step - loss: 1.5607 - accuracy: 0.5495 - val_loss: 1.3048 - val_accuracy: 0.9947\n",
      "Epoch 4/6\n",
      "83/83 [==============================] - 6s 72ms/step - loss: 1.2899 - accuracy: 0.6842 - val_loss: 1.0481 - val_accuracy: 1.0000\n",
      "Epoch 5/6\n",
      "83/83 [==============================] - 6s 72ms/step - loss: 1.0546 - accuracy: 0.7753 - val_loss: 0.8333 - val_accuracy: 1.0000\n",
      "Epoch 6/6\n",
      "83/83 [==============================] - 6s 72ms/step - loss: 0.8616 - accuracy: 0.8385 - val_loss: 0.6724 - val_accuracy: 1.0000\n"
     ]
    }
   ],
   "source": [
    "#second model training\n",
    "with tf.device('/GPU:0'):\n",
    "    history2 = model2.fit(train_dice,train_labels,epochs=epochs,validation_data=(val_dice,val_labels),batch_size=batchsize)"
   ]
  },
  {
   "cell_type": "code",
   "execution_count": 11,
   "metadata": {},
   "outputs": [
    {
     "data": {
      "image/png": "[encoded data removed]",
      "text/plain": [
       "<Figure size 864x432 with 2 Axes>"
      ]
     },
     "metadata": {
      "needs_background": "light"
     },
     "output_type": "display_data"
    }
   ],
   "source": [
    "plot_history(history)"
   ]
  },
  {
   "cell_type": "code",
   "execution_count": 12,
   "metadata": {},
   "outputs": [
    {
     "data": {
      "image/png": "[encoded data removed]",
      "text/plain": [
       "<Figure size 864x432 with 2 Axes>"
      ]
     },
     "metadata": {
      "needs_background": "light"
     },
     "output_type": "display_data"
    }
   ],
   "source": [
    "plot_history(history2)"
   ]
  },
  {
   "cell_type": "code",
   "execution_count": 13,
   "metadata": {},
   "outputs": [
    {
     "name": "stderr",
     "output_type": "stream",
     "text": [
      "WARNING:absl:Found untraced functions such as softmax_1_layer_call_fn, softmax_1_layer_call_and_return_conditional_losses, softmax_1_layer_call_fn, softmax_1_layer_call_and_return_conditional_losses, softmax_1_layer_call_and_return_conditional_losses while saving (showing 5 of 5). These functions will not be directly callable after loading.\n"
     ]
    },
    {
     "name": "stdout",
     "output_type": "stream",
     "text": [
      "INFO:tensorflow:Assets written to: model1\\assets\n"
     ]
    },
    {
     "name": "stderr",
     "output_type": "stream",
     "text": [
      "INFO:tensorflow:Assets written to: model1\\assets\n",
      "WARNING:absl:Found untraced functions such as softmax_1_layer_call_fn, softmax_1_layer_call_and_return_conditional_losses, softmax_1_layer_call_fn, softmax_1_layer_call_and_return_conditional_losses, softmax_1_layer_call_and_return_conditional_losses while saving (showing 5 of 5). These functions will not be directly callable after loading.\n"
     ]
    },
    {
     "name": "stdout",
     "output_type": "stream",
     "text": [
      "INFO:tensorflow:Assets written to: model2\\assets\n"
     ]
    },
    {
     "name": "stderr",
     "output_type": "stream",
     "text": [
      "INFO:tensorflow:Assets written to: model2\\assets\n"
     ]
    }
   ],
   "source": [
    "model.save('model1')\n",
    "model.save('model2')"
   ]
  }
 ],
 "metadata": {
  "interpreter": {
   "hash": "844750d5e47ed69586078e214d510ee037c49cfe135224478769d7a6fad57b7d"
  },
  "kernelspec": {
   "display_name": "Python 3.8.12 64-bit ('gpu_tf': conda)",
   "language": "python",
   "name": "python3"
  },
  "language_info": {
   "codemirror_mode": {
    "name": "ipython",
    "version": 3
   },
   "file_extension": ".py",
   "mimetype": "text/x-python",
   "name": "python",
   "nbconvert_exporter": "python",
   "pygments_lexer": "ipython3",
   "version": "3.8.12"
  },
  "orig_nbformat": 4
 },
 "nbformat": 4,
 "nbformat_minor": 2
}
