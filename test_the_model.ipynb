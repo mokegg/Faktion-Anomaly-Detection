{
 "cells": [
  {
   "cell_type": "code",
   "execution_count": 1,
   "metadata": {},
   "outputs": [],
   "source": [
    "import tensorflow as tf\n",
    "from tensorflow import keras\n",
    "import numpy as np\n",
    "import matplotlib.pyplot as plt\n",
    "from glob import glob"
   ]
  },
  {
   "cell_type": "code",
   "execution_count": 2,
   "metadata": {},
   "outputs": [],
   "source": [
    "cnn = keras.models.load_model('model60')\n",
    "\n"
   ]
  },
  {
   "cell_type": "code",
   "execution_count": 3,
   "metadata": {},
   "outputs": [],
   "source": [
    "files = ['./test_set/00/*','./test_set/01/*','./test_set/02/*','./test_set/03/*','./test_set/04/*','./test_set/05/*','./test_set/06/*','./test_set/07/*','./test_set/08/*','./test_set/09/*','./test_set/10/*']"
   ]
  },
  {
   "cell_type": "code",
   "execution_count": 4,
   "metadata": {},
   "outputs": [],
   "source": [
    "def get_training_data(file_array: list):\n",
    "    training_data = []\n",
    "   \n",
    "    #looping through files array\n",
    "    for file in file_array:\n",
    "        #getting the image data\n",
    "        image = tf.keras.utils.load_img(file, grayscale=False, color_mode='grayscale', target_size=None,interpolation='nearest')\n",
    "        #converting everything to numpy array\n",
    "        input_arr = tf.keras.preprocessing.image.img_to_array(image)\n",
    "        input_arr = np.array([input_arr]) \n",
    "        #normalize the array to a float from 0 to 1\n",
    "        input_arr = input_arr/255\n",
    "        #add dice image to training data\n",
    "        training_data.append(input_arr[0])\n",
    "\n",
    "    dices_array = np.array(training_data)\n",
    "    return dices_array\n"
   ]
  },
  {
   "cell_type": "code",
   "execution_count": 5,
   "metadata": {},
   "outputs": [],
   "source": [
    "#getting all the dices from the files\n",
    "def get_all_dices(files: list):\n",
    "    dices = []\n",
    "    for file in files:\n",
    "        f = glob(file)\n",
    "        dices.append(get_training_data(f))\n",
    "    return dices"
   ]
  },
  {
   "cell_type": "code",
   "execution_count": 6,
   "metadata": {},
   "outputs": [],
   "source": [
    "dices_raw = get_all_dices(files)"
   ]
  },
  {
   "cell_type": "code",
   "execution_count": 7,
   "metadata": {},
   "outputs": [],
   "source": [
    "dices = []\n",
    "for i in range(7):\n",
    "    if i == 1:\n",
    "        temp = np.concatenate([dices_raw[i], dices_raw[i+1]])\n",
    "        dices.append(temp)\n",
    "        continue\n",
    "    if i ==2:\n",
    "        continue\n",
    "    if i == 3:\n",
    "        temp = np.concatenate([dices_raw[i], dices_raw[i+1]])\n",
    "        dices.append(temp)\n",
    "        continue\n",
    "    if i ==4:\n",
    "        continue\n",
    "    else:\n",
    "        dices.append(dices_raw[i])\n",
    "\n",
    "t = np.concatenate([dices_raw[7],dices_raw[8]])\n",
    "\n",
    "t= np.concatenate([t,dices_raw[9]])\n",
    "t= np.concatenate([t,dices_raw[10]])\n",
    "dices.append(t)\n"
   ]
  },
  {
   "cell_type": "code",
   "execution_count": 8,
   "metadata": {},
   "outputs": [],
   "source": [
    "def get_labels():\n",
    "    labels = []\n",
    "    for i in range(len(dices)):\n",
    "        for j in range(len(dices[i])):\n",
    "            labels.append(i)\n",
    "    arr = np.array(labels)\n",
    "    \n",
    "    return arr"
   ]
  },
  {
   "cell_type": "code",
   "execution_count": 9,
   "metadata": {},
   "outputs": [
    {
     "data": {
      "text/plain": [
       "(330,)"
      ]
     },
     "execution_count": 9,
     "metadata": {},
     "output_type": "execute_result"
    }
   ],
   "source": [
    "labels = get_labels()\n",
    "labels.shape"
   ]
  },
  {
   "cell_type": "code",
   "execution_count": 10,
   "metadata": {},
   "outputs": [],
   "source": [
    "def stack_test_data(_dices: list):\n",
    "    test = np.concatenate([_dices[0],_dices[1]])\n",
    "    for i in range(2,len(_dices)):\n",
    "        test = np.concatenate([test,_dices[i]])\n",
    "    return test"
   ]
  },
  {
   "cell_type": "code",
   "execution_count": 11,
   "metadata": {},
   "outputs": [],
   "source": [
    "_test = stack_test_data(dices)"
   ]
  },
  {
   "cell_type": "code",
   "execution_count": 12,
   "metadata": {},
   "outputs": [],
   "source": [
    "from sklearn.utils import shuffle\n",
    "X,y = shuffle(_test,labels, random_state=0)"
   ]
  },
  {
   "cell_type": "code",
   "execution_count": 13,
   "metadata": {},
   "outputs": [
    {
     "name": "stdout",
     "output_type": "stream",
     "text": [
      "(330, 128, 128, 1)\n",
      "(330,)\n"
     ]
    }
   ],
   "source": [
    "print(X.shape)\n",
    "print(y.shape)"
   ]
  },
  {
   "cell_type": "code",
   "execution_count": 14,
   "metadata": {},
   "outputs": [],
   "source": [
    "pre = cnn.predict(X)"
   ]
  },
  {
   "cell_type": "code",
   "execution_count": 15,
   "metadata": {},
   "outputs": [],
   "source": [
    "def accuracy(pre):\n",
    "    predictions = 0\n",
    "    for i in range(len(pre)):\n",
    "        number = np.argmax(pre[i])\n",
    "        pred_number = y[i]\n",
    "        if number == pred_number:\n",
    "            predictions +=1\n",
    "        \n",
    "    acc = predictions/len(pre)\n",
    "    return acc\n",
    "\n",
    "    \n",
    "\n",
    "        \n"
   ]
  },
  {
   "cell_type": "code",
   "execution_count": 16,
   "metadata": {},
   "outputs": [
    {
     "name": "stdout",
     "output_type": "stream",
     "text": [
      "0.9757575757575757\n"
     ]
    }
   ],
   "source": [
    "a = accuracy(pre)\n",
    "print(a)"
   ]
  },
  {
   "cell_type": "code",
   "execution_count": 18,
   "metadata": {},
   "outputs": [
    {
     "data": {
      "text/plain": [
       "array([[ 29,   0,   0,   0,   0,   0],\n",
       "       [  0,  63,   0,   0,   0,   0],\n",
       "       [  0,   8,  54,   0,   0,   0],\n",
       "       [  0,   0,   0,  22,   0,   0],\n",
       "       [  0,   0,   0,   0,  26,   0],\n",
       "       [  0,   0,   0,   0,   0, 128]], dtype=int64)"
      ]
     },
     "execution_count": 18,
     "metadata": {},
     "output_type": "execute_result"
    }
   ],
   "source": [
    "from sklearn.metrics import confusion_matrix\n",
    "cm = confusion_matrix(y, y_pred=np.argmax(pre, axis=-1))\n",
    "cm"
   ]
  },
  {
   "cell_type": "code",
   "execution_count": null,
   "metadata": {},
   "outputs": [],
   "source": [
    "X = X[:10]\n",
    "y= y[:10]\n",
    "print(X.shape)\n",
    "print(y.shape)"
   ]
  },
  {
   "cell_type": "code",
   "execution_count": null,
   "metadata": {},
   "outputs": [],
   "source": [
    "plt.imshow(X[0])\n",
    "l = str( y[0])\n",
    "plt.xlabel('actual: '+l)\n",
    "plt.show()"
   ]
  },
  {
   "cell_type": "code",
   "execution_count": null,
   "metadata": {},
   "outputs": [],
   "source": [
    "prediction = model.predict(X)\n",
    "prediction2 = model2.predict(X)\n",
    "prediction3 = model3.predict(X)"
   ]
  },
  {
   "cell_type": "code",
   "execution_count": null,
   "metadata": {},
   "outputs": [],
   "source": [
    "prediction"
   ]
  },
  {
   "cell_type": "code",
   "execution_count": null,
   "metadata": {},
   "outputs": [],
   "source": [
    "for i in range(10):\n",
    "    \n",
    "    plt.grid(False)\n",
    "    plt.imshow(X[i])\n",
    "    \n",
    "    l = str( y[i])\n",
    "    plt.xlabel('actual: '+l)\n",
    "    p2 = str(np.argmax(prediction2[i]))\n",
    "    p = str(np.argmax(prediction[i]))\n",
    "    p3 = str(np.argmax(prediction3[i]))\n",
    "    plt.title(f'Prediction 1:{p} Prediction 2: {p2}  Prediction 3: {p3}')\n",
    "    plt.show()"
   ]
  },
  {
   "cell_type": "code",
   "execution_count": null,
   "metadata": {},
   "outputs": [],
   "source": [
    "f = ['./test_set/ano/*']"
   ]
  },
  {
   "cell_type": "code",
   "execution_count": null,
   "metadata": {},
   "outputs": [],
   "source": [
    "ano_dices = get_all_dices(f)"
   ]
  },
  {
   "cell_type": "code",
   "execution_count": null,
   "metadata": {},
   "outputs": [],
   "source": [
    "_ano_test = ano_dices[0]"
   ]
  },
  {
   "cell_type": "code",
   "execution_count": null,
   "metadata": {},
   "outputs": [],
   "source": [
    "_ano_predict = model.predict(_ano_test)\n",
    "_ano_predict2 = model2.predict(_ano_test)\n",
    "_ano_predict3 = model3.predict(_ano_test)\n"
   ]
  },
  {
   "cell_type": "code",
   "execution_count": null,
   "metadata": {},
   "outputs": [],
   "source": [
    "_ano_predict.shape"
   ]
  },
  {
   "cell_type": "code",
   "execution_count": null,
   "metadata": {},
   "outputs": [],
   "source": [
    "_ano_test.shape\n"
   ]
  },
  {
   "cell_type": "code",
   "execution_count": null,
   "metadata": {},
   "outputs": [],
   "source": [
    "for i in range(52):\n",
    "    \n",
    "    plt.grid(False)\n",
    "    plt.imshow(_ano_test[i])\n",
    "    \n",
    "    p2 = str(np.argmax(_ano_predict2[i]))\n",
    "    p = str(np.argmax(_ano_predict[i]))\n",
    "    p3 = str(np.argmax(_ano_predict3[i]))\n",
    "    plt.title(f'Prediction 1:{p} Prediction 2: {p2}  Prediction 3: {p3}')\n",
    "    plt.show()"
   ]
  },
  {
   "cell_type": "code",
   "execution_count": null,
   "metadata": {},
   "outputs": [],
   "source": []
  },
  {
   "cell_type": "code",
   "execution_count": null,
   "metadata": {},
   "outputs": [],
   "source": [
    "plt.grid(False)\n",
    "plt.imshow(arr[0])\n",
    "\n",
    "\n",
    "p = str(np.argmax(ano[0]))\n",
    "plt.title('Prediction: '+ p)\n",
    "plt.show()"
   ]
  },
  {
   "cell_type": "code",
   "execution_count": null,
   "metadata": {},
   "outputs": [],
   "source": []
  }
 ],
 "metadata": {
  "interpreter": {
   "hash": "844750d5e47ed69586078e214d510ee037c49cfe135224478769d7a6fad57b7d"
  },
  "kernelspec": {
   "display_name": "Python 3.8.12 64-bit ('gpu_tf': conda)",
   "language": "python",
   "name": "python3"
  },
  "language_info": {
   "codemirror_mode": {
    "name": "ipython",
    "version": 3
   },
   "file_extension": ".py",
   "mimetype": "text/x-python",
   "name": "python",
   "nbconvert_exporter": "python",
   "pygments_lexer": "ipython3",
   "version": "3.8.12"
  },
  "orig_nbformat": 4
 },
 "nbformat": 4,
 "nbformat_minor": 2
}
